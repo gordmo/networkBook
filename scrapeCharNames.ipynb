{
 "cells": [
  {
   "cell_type": "code",
   "execution_count": 1,
   "id": "668b93f8-17c3-409b-99ce-d587a10b0999",
   "metadata": {},
   "outputs": [],
   "source": [
    "import pandas as pd\n",
    "import time\n",
    "from selenium import webdriver\n",
    "from webdriver_manager.chrome import ChromeDriverManager\n",
    "#from webdriver_manager.utils import ChromeType\n",
    "from selenium.webdriver.common.by import By"
   ]
  },
  {
   "cell_type": "code",
   "execution_count": 2,
   "id": "24cd9a05",
   "metadata": {},
   "outputs": [
    {
     "name": "stdout",
     "output_type": "stream",
     "text": [
      "\n"
     ]
    },
    {
     "name": "stderr",
     "output_type": "stream",
     "text": [
      "[WDM] - ====== WebDriver manager ======\n"
     ]
    },
    {
     "name": "stdout",
     "output_type": "stream",
     "text": [
      "2022-07-08 13:13:52,814 INFO ====== WebDriver manager ======\n"
     ]
    },
    {
     "name": "stderr",
     "output_type": "stream",
     "text": [
      "[WDM] - Current google-chrome version is 103.0.5060\n"
     ]
    },
    {
     "name": "stdout",
     "output_type": "stream",
     "text": [
      "2022-07-08 13:13:52,817 INFO Current google-chrome version is 103.0.5060\n"
     ]
    },
    {
     "name": "stderr",
     "output_type": "stream",
     "text": [
      "[WDM] - Get LATEST chromedriver version for 103.0.5060 google-chrome\n"
     ]
    },
    {
     "name": "stdout",
     "output_type": "stream",
     "text": [
      "2022-07-08 13:13:52,818 INFO Get LATEST chromedriver version for 103.0.5060 google-chrome\n"
     ]
    },
    {
     "name": "stderr",
     "output_type": "stream",
     "text": [
      "[WDM] - About to download new driver from https://chromedriver.storage.googleapis.com/103.0.5060.53/chromedriver_win32.zip\n"
     ]
    },
    {
     "name": "stdout",
     "output_type": "stream",
     "text": [
      "2022-07-08 13:13:52,957 INFO About to download new driver from https://chromedriver.storage.googleapis.com/103.0.5060.53/chromedriver_win32.zip\n"
     ]
    },
    {
     "name": "stderr",
     "output_type": "stream",
     "text": [
      "[WDM] - Driver has been saved in cache [C:\\Users\\boon\\.wdm\\drivers\\chromedriver\\win32\\103.0.5060.53]\n"
     ]
    },
    {
     "name": "stdout",
     "output_type": "stream",
     "text": [
      "2022-07-08 13:13:53,596 INFO Driver has been saved in cache [C:\\Users\\boon\\.wdm\\drivers\\chromedriver\\win32\\103.0.5060.53]\n"
     ]
    },
    {
     "name": "stderr",
     "output_type": "stream",
     "text": [
      "C:\\Users\\boon\\AppData\\Local\\Temp\\ipykernel_9968\\551910573.py:2: DeprecationWarning: executable_path has been deprecated, please pass in a Service object\n",
      "  driver = webdriver.Chrome(ChromeDriverManager().install())\n"
     ]
    }
   ],
   "source": [
    "# Create the chrome driver (you need chrome, not a chromium browser for this bruh)\n",
    "driver = webdriver.Chrome(ChromeDriverManager().install())"
   ]
  },
  {
   "cell_type": "code",
   "execution_count": 3,
   "id": "59081020",
   "metadata": {},
   "outputs": [],
   "source": [
    "# Go to characters page\n",
    "page_url = \"https://mother-of-learning.fandom.com/wiki/Character_Guide\"\n",
    "driver.get(page_url)"
   ]
  },
  {
   "cell_type": "code",
   "execution_count": 12,
   "id": "b8738556",
   "metadata": {},
   "outputs": [
    {
     "ename": "NoSuchElementException",
     "evalue": "Message: no such element: Unable to locate element: {\"method\":\"tag name\",\"selector\":\"a\"}\n  (Session info: chrome=103.0.5060.114)\nStacktrace:\nBacktrace:\n\tOrdinal0 [0x003D6463+2188387]\n\tOrdinal0 [0x0036E461+1762401]\n\tOrdinal0 [0x00283D78+802168]\n\tOrdinal0 [0x002B1880+989312]\n\tOrdinal0 [0x002B1B1B+989979]\n\tOrdinal0 [0x002A8071+950385]\n\tOrdinal0 [0x002CC824+1099812]\n\tOrdinal0 [0x002A7FF4+950260]\n\tOrdinal0 [0x002CC9F4+1100276]\n\tOrdinal0 [0x002DCC22+1166370]\n\tOrdinal0 [0x002CC5F6+1099254]\n\tOrdinal0 [0x002A6BE0+945120]\n\tOrdinal0 [0x002A7AD6+948950]\n\tGetHandleVerifier [0x006771F2+2712546]\n\tGetHandleVerifier [0x0066886D+2652765]\n\tGetHandleVerifier [0x0046002A+520730]\n\tGetHandleVerifier [0x0045EE06+516086]\n\tOrdinal0 [0x0037468B+1787531]\n\tOrdinal0 [0x00378E88+1805960]\n\tOrdinal0 [0x00378F75+1806197]\n\tOrdinal0 [0x00381DF1+1842673]\n\tBaseThreadInitThunk [0x761FFA29+25]\n\tRtlGetAppContainerNamedObjectPath [0x77367A9E+286]\n\tRtlGetAppContainerNamedObjectPath [0x77367A6E+238]\n",
     "output_type": "error",
     "traceback": [
      "\u001b[1;31m---------------------------------------------------------------------------\u001b[0m",
      "\u001b[1;31mNoSuchElementException\u001b[0m                    Traceback (most recent call last)",
      "\u001b[1;32mc:\\Users\\boon\\Desktop\\projects\\python\\networkBook\\scrapeCharNames.ipynb Cell 4'\u001b[0m in \u001b[0;36m<cell line: 5>\u001b[1;34m()\u001b[0m\n\u001b[0;32m      <a href='vscode-notebook-cell:/c%3A/Users/boon/Desktop/projects/python/networkBook/scrapeCharNames.ipynb#ch0000003?line=6'>7</a>\u001b[0m     \u001b[39mpass\u001b[39;00m\n\u001b[0;32m      <a href='vscode-notebook-cell:/c%3A/Users/boon/Desktop/projects/python/networkBook/scrapeCharNames.ipynb#ch0000003?line=7'>8</a>\u001b[0m \u001b[39melse\u001b[39;00m:\n\u001b[1;32m----> <a href='vscode-notebook-cell:/c%3A/Users/boon/Desktop/projects/python/networkBook/scrapeCharNames.ipynb#ch0000003?line=8'>9</a>\u001b[0m     char_name \u001b[39m=\u001b[39m li\u001b[39m.\u001b[39;49mfind_element(By\u001b[39m.\u001b[39;49mTAG_NAME, \u001b[39m\"\u001b[39;49m\u001b[39ma\u001b[39;49m\u001b[39m\"\u001b[39;49m)\n\u001b[0;32m     <a href='vscode-notebook-cell:/c%3A/Users/boon/Desktop/projects/python/networkBook/scrapeCharNames.ipynb#ch0000003?line=9'>10</a>\u001b[0m     \u001b[39m#holder = li.get_attribute(\"title\")\u001b[39;00m\n\u001b[0;32m     <a href='vscode-notebook-cell:/c%3A/Users/boon/Desktop/projects/python/networkBook/scrapeCharNames.ipynb#ch0000003?line=10'>11</a>\u001b[0m     character_elements\u001b[39m.\u001b[39mappend(char_name)\n",
      "File \u001b[1;32mc:\\Users\\boon\\AppData\\Local\\Programs\\Python\\Python310\\lib\\site-packages\\selenium\\webdriver\\remote\\webelement.py:419\u001b[0m, in \u001b[0;36mWebElement.find_element\u001b[1;34m(self, by, value)\u001b[0m\n\u001b[0;32m    416\u001b[0m     by \u001b[39m=\u001b[39m By\u001b[39m.\u001b[39mCSS_SELECTOR\n\u001b[0;32m    417\u001b[0m     value \u001b[39m=\u001b[39m \u001b[39m'\u001b[39m\u001b[39m[name=\u001b[39m\u001b[39m\"\u001b[39m\u001b[39m%s\u001b[39;00m\u001b[39m\"\u001b[39m\u001b[39m]\u001b[39m\u001b[39m'\u001b[39m \u001b[39m%\u001b[39m value\n\u001b[1;32m--> 419\u001b[0m \u001b[39mreturn\u001b[39;00m \u001b[39mself\u001b[39;49m\u001b[39m.\u001b[39;49m_execute(Command\u001b[39m.\u001b[39;49mFIND_CHILD_ELEMENT,\n\u001b[0;32m    420\u001b[0m                      {\u001b[39m\"\u001b[39;49m\u001b[39musing\u001b[39;49m\u001b[39m\"\u001b[39;49m: by, \u001b[39m\"\u001b[39;49m\u001b[39mvalue\u001b[39;49m\u001b[39m\"\u001b[39;49m: value})[\u001b[39m'\u001b[39m\u001b[39mvalue\u001b[39m\u001b[39m'\u001b[39m]\n",
      "File \u001b[1;32mc:\\Users\\boon\\AppData\\Local\\Programs\\Python\\Python310\\lib\\site-packages\\selenium\\webdriver\\remote\\webelement.py:396\u001b[0m, in \u001b[0;36mWebElement._execute\u001b[1;34m(self, command, params)\u001b[0m\n\u001b[0;32m    394\u001b[0m     params \u001b[39m=\u001b[39m {}\n\u001b[0;32m    395\u001b[0m params[\u001b[39m'\u001b[39m\u001b[39mid\u001b[39m\u001b[39m'\u001b[39m] \u001b[39m=\u001b[39m \u001b[39mself\u001b[39m\u001b[39m.\u001b[39m_id\n\u001b[1;32m--> 396\u001b[0m \u001b[39mreturn\u001b[39;00m \u001b[39mself\u001b[39;49m\u001b[39m.\u001b[39;49m_parent\u001b[39m.\u001b[39;49mexecute(command, params)\n",
      "File \u001b[1;32mc:\\Users\\boon\\AppData\\Local\\Programs\\Python\\Python310\\lib\\site-packages\\selenium\\webdriver\\remote\\webdriver.py:435\u001b[0m, in \u001b[0;36mWebDriver.execute\u001b[1;34m(self, driver_command, params)\u001b[0m\n\u001b[0;32m    433\u001b[0m response \u001b[39m=\u001b[39m \u001b[39mself\u001b[39m\u001b[39m.\u001b[39mcommand_executor\u001b[39m.\u001b[39mexecute(driver_command, params)\n\u001b[0;32m    434\u001b[0m \u001b[39mif\u001b[39;00m response:\n\u001b[1;32m--> 435\u001b[0m     \u001b[39mself\u001b[39;49m\u001b[39m.\u001b[39;49merror_handler\u001b[39m.\u001b[39;49mcheck_response(response)\n\u001b[0;32m    436\u001b[0m     response[\u001b[39m'\u001b[39m\u001b[39mvalue\u001b[39m\u001b[39m'\u001b[39m] \u001b[39m=\u001b[39m \u001b[39mself\u001b[39m\u001b[39m.\u001b[39m_unwrap_value(\n\u001b[0;32m    437\u001b[0m         response\u001b[39m.\u001b[39mget(\u001b[39m'\u001b[39m\u001b[39mvalue\u001b[39m\u001b[39m'\u001b[39m, \u001b[39mNone\u001b[39;00m))\n\u001b[0;32m    438\u001b[0m     \u001b[39mreturn\u001b[39;00m response\n",
      "File \u001b[1;32mc:\\Users\\boon\\AppData\\Local\\Programs\\Python\\Python310\\lib\\site-packages\\selenium\\webdriver\\remote\\errorhandler.py:247\u001b[0m, in \u001b[0;36mErrorHandler.check_response\u001b[1;34m(self, response)\u001b[0m\n\u001b[0;32m    245\u001b[0m         alert_text \u001b[39m=\u001b[39m value[\u001b[39m'\u001b[39m\u001b[39malert\u001b[39m\u001b[39m'\u001b[39m]\u001b[39m.\u001b[39mget(\u001b[39m'\u001b[39m\u001b[39mtext\u001b[39m\u001b[39m'\u001b[39m)\n\u001b[0;32m    246\u001b[0m     \u001b[39mraise\u001b[39;00m exception_class(message, screen, stacktrace, alert_text)  \u001b[39m# type: ignore[call-arg]  # mypy is not smart enough here\u001b[39;00m\n\u001b[1;32m--> 247\u001b[0m \u001b[39mraise\u001b[39;00m exception_class(message, screen, stacktrace)\n",
      "\u001b[1;31mNoSuchElementException\u001b[0m: Message: no such element: Unable to locate element: {\"method\":\"tag name\",\"selector\":\"a\"}\n  (Session info: chrome=103.0.5060.114)\nStacktrace:\nBacktrace:\n\tOrdinal0 [0x003D6463+2188387]\n\tOrdinal0 [0x0036E461+1762401]\n\tOrdinal0 [0x00283D78+802168]\n\tOrdinal0 [0x002B1880+989312]\n\tOrdinal0 [0x002B1B1B+989979]\n\tOrdinal0 [0x002A8071+950385]\n\tOrdinal0 [0x002CC824+1099812]\n\tOrdinal0 [0x002A7FF4+950260]\n\tOrdinal0 [0x002CC9F4+1100276]\n\tOrdinal0 [0x002DCC22+1166370]\n\tOrdinal0 [0x002CC5F6+1099254]\n\tOrdinal0 [0x002A6BE0+945120]\n\tOrdinal0 [0x002A7AD6+948950]\n\tGetHandleVerifier [0x006771F2+2712546]\n\tGetHandleVerifier [0x0066886D+2652765]\n\tGetHandleVerifier [0x0046002A+520730]\n\tGetHandleVerifier [0x0045EE06+516086]\n\tOrdinal0 [0x0037468B+1787531]\n\tOrdinal0 [0x00378E88+1805960]\n\tOrdinal0 [0x00378F75+1806197]\n\tOrdinal0 [0x00381DF1+1842673]\n\tBaseThreadInitThunk [0x761FFA29+25]\n\tRtlGetAppContainerNamedObjectPath [0x77367A9E+286]\n\tRtlGetAppContainerNamedObjectPath [0x77367A6E+238]\n"
     ]
    }
   ],
   "source": [
    "page = driver.find_element(By.CLASS_NAME, \"mw-parser-output\")\n",
    "li_elements = page.find_elements(By.TAG_NAME, \"li\")\n",
    "character_elements = []\n",
    "#filter out table of content elements\n",
    "for li in li_elements:\n",
    "    if \"toclevel\" in li.get_attribute(\"class\"):\n",
    "        pass\n",
    "    else:\n",
    "        #char_name = li.find_element(By.TAG_NAME, \"a\").text\n",
    "        holder = li.get_attribute(\"title\")\n",
    "        print(holder)\n",
    "        #character_elements.append(char_name)"
   ]
  },
  {
   "cell_type": "code",
   "execution_count": null,
   "id": "d3aa2330",
   "metadata": {},
   "outputs": [
    {
     "data": {
      "text/html": [
       "<div>\n",
       "<style scoped>\n",
       "    .dataframe tbody tr th:only-of-type {\n",
       "        vertical-align: middle;\n",
       "    }\n",
       "\n",
       "    .dataframe tbody tr th {\n",
       "        vertical-align: top;\n",
       "    }\n",
       "\n",
       "    .dataframe thead th {\n",
       "        text-align: right;\n",
       "    }\n",
       "</style>\n",
       "<table border=\"1\" class=\"dataframe\">\n",
       "  <thead>\n",
       "    <tr style=\"text-align: right;\">\n",
       "      <th></th>\n",
       "      <th>0</th>\n",
       "    </tr>\n",
       "  </thead>\n",
       "  <tbody>\n",
       "    <tr>\n",
       "      <th>0</th>\n",
       "      <td>&lt;selenium.webdriver.remote.webelement.WebEleme...</td>\n",
       "    </tr>\n",
       "    <tr>\n",
       "      <th>1</th>\n",
       "      <td>&lt;selenium.webdriver.remote.webelement.WebEleme...</td>\n",
       "    </tr>\n",
       "    <tr>\n",
       "      <th>2</th>\n",
       "      <td>&lt;selenium.webdriver.remote.webelement.WebEleme...</td>\n",
       "    </tr>\n",
       "    <tr>\n",
       "      <th>3</th>\n",
       "      <td>&lt;selenium.webdriver.remote.webelement.WebEleme...</td>\n",
       "    </tr>\n",
       "    <tr>\n",
       "      <th>4</th>\n",
       "      <td>&lt;selenium.webdriver.remote.webelement.WebEleme...</td>\n",
       "    </tr>\n",
       "    <tr>\n",
       "      <th>...</th>\n",
       "      <td>...</td>\n",
       "    </tr>\n",
       "    <tr>\n",
       "      <th>274</th>\n",
       "      <td>&lt;selenium.webdriver.remote.webelement.WebEleme...</td>\n",
       "    </tr>\n",
       "    <tr>\n",
       "      <th>275</th>\n",
       "      <td>&lt;selenium.webdriver.remote.webelement.WebEleme...</td>\n",
       "    </tr>\n",
       "    <tr>\n",
       "      <th>276</th>\n",
       "      <td>&lt;selenium.webdriver.remote.webelement.WebEleme...</td>\n",
       "    </tr>\n",
       "    <tr>\n",
       "      <th>277</th>\n",
       "      <td>&lt;selenium.webdriver.remote.webelement.WebEleme...</td>\n",
       "    </tr>\n",
       "    <tr>\n",
       "      <th>278</th>\n",
       "      <td>&lt;selenium.webdriver.remote.webelement.WebEleme...</td>\n",
       "    </tr>\n",
       "  </tbody>\n",
       "</table>\n",
       "<p>279 rows × 1 columns</p>\n",
       "</div>"
      ],
      "text/plain": [
       "                                                     0\n",
       "0    <selenium.webdriver.remote.webelement.WebEleme...\n",
       "1    <selenium.webdriver.remote.webelement.WebEleme...\n",
       "2    <selenium.webdriver.remote.webelement.WebEleme...\n",
       "3    <selenium.webdriver.remote.webelement.WebEleme...\n",
       "4    <selenium.webdriver.remote.webelement.WebEleme...\n",
       "..                                                 ...\n",
       "274  <selenium.webdriver.remote.webelement.WebEleme...\n",
       "275  <selenium.webdriver.remote.webelement.WebEleme...\n",
       "276  <selenium.webdriver.remote.webelement.WebEleme...\n",
       "277  <selenium.webdriver.remote.webelement.WebEleme...\n",
       "278  <selenium.webdriver.remote.webelement.WebEleme...\n",
       "\n",
       "[279 rows x 1 columns]"
      ]
     },
     "execution_count": 10,
     "metadata": {},
     "output_type": "execute_result"
    }
   ],
   "source": [
    "pd.DataFrame(character_elements)"
   ]
  }
 ],
 "metadata": {
  "kernelspec": {
   "display_name": "Python 3.10.5 64-bit",
   "language": "python",
   "name": "python3"
  },
  "language_info": {
   "codemirror_mode": {
    "name": "ipython",
    "version": 3
   },
   "file_extension": ".py",
   "mimetype": "text/x-python",
   "name": "python",
   "nbconvert_exporter": "python",
   "pygments_lexer": "ipython3",
   "version": "3.10.5"
  },
  "vscode": {
   "interpreter": {
    "hash": "a81fb94778b591a954d7bb53fab258d281483ab044728ba7a12ade0dcb0c9b93"
   }
  }
 },
 "nbformat": 4,
 "nbformat_minor": 5
}
